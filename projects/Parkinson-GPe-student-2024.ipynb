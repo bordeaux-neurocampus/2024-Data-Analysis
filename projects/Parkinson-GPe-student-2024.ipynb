{
 "cells": [
  {
   "cell_type": "markdown",
   "id": "65e7f819",
   "metadata": {},
   "source": [
    "### Electrophysiology mini project\n",
    "\n",
    "Synchronized neural oscillations are critical for normal brain function. In **Parkinson’s disease (PD)** models, exaggerated neuronal synchronization of beta oscillations has been observed after loss of dopaminergic neurons in deep sub-cortical nuclei called the basal ganglia. One of these nuclei, **the globus pallidus (GP)**, might be responsible for this abnormal synchronization and can be regarded as a promising therapeutic target.\n",
    "\n",
    "In this project, you will **analyse electrophysiological recordings from a rat model of PD**.\n",
    "\n",
    "The goal of the project is to characterize the **synchrony between the cortical EEG and the neuronal activity** of neurons of the GB. The neuronal activity and EEG of **healthy and PD model rats** have been recorded in **two different anaesthesia states: the slow-wave and activated state**, which differ in the brain oscillations expressed.\n",
    "\n",
    "To highlight the synchrony between neuronal firing and EEG, you will rely on *coherence analysis* of the various recorded neurons in the GP and the cortical EEG. You will also show that GP neurons display *heterogeneity in their firing patterns* and *synchrony to EEG* in the slow-wave and activated states.\n",
    "\n",
    "The project will reproduce partially the results shown in Fig. 1 of this paper: \\\n",
    "Mallet, N., Micklem, B. R., Henny, P., Brown, M. T., Williams, C., Bolam, J. P., Nakamura, K. C., & Magill, P. J. (2012). Dichotomous organization of the external globus pallidus. *Neuron*, 74(6), 1075–1086. \\\n",
    "https://doi.org/10.1016/j.neuron.2012.04.027\n",
    "\n"
   ]
  },
  {
   "cell_type": "code",
   "execution_count": 2,
   "id": "4b729a1a",
   "metadata": {},
   "outputs": [],
   "source": [
    "import numpy as np\n",
    "import scipy\n",
    "import scipy.signal\n",
    "import h5py\n",
    "import matplotlib.pyplot as plt"
   ]
  },
  {
   "cell_type": "code",
   "execution_count": null,
   "id": "bec226c5",
   "metadata": {},
   "outputs": [],
   "source": [
    "# Load the data in a dictionnary\n",
    "data={'ActivPark': h5py.File('ephysProject/L23_f09_as_PARK.mat','r'),\n",
    "      'SWAPark': h5py.File('ephysProject/L23_f03_swa_PARK.mat','r'),\n",
    "      'ActivCtl': h5py.File('ephysProject/A9_c05_as_CTL.mat','r'),\n",
    "      'SWACtl': h5py.File('ephysProject/A9_c01_swa_CTL.mat','r')}\n",
    "\n",
    "# Look at the variable names in each data file\n",
    "for key, value in data.items():\n",
    "    print(key)\n",
    "    print(data[key].keys())"
   ]
  },
  {
   "cell_type": "code",
   "execution_count": null,
   "id": "73bd77ed",
   "metadata": {},
   "outputs": [],
   "source": [
    "# Look up variable in a specific dataset\n",
    "dict(data['ActivPark']['L23_Pr20_c09'])"
   ]
  },
  {
   "cell_type": "code",
   "execution_count": null,
   "id": "12807aaf",
   "metadata": {},
   "outputs": [],
   "source": [
    "# Let's select a few datasets to work with: 1 EEG and 3 spike trains from parkinsonian animals in 'activated state'\n",
    "EEG=data['ActivPark']['L23_EEGipsi']\n",
    "ST1=data['ActivPark']['L23_Pr20_c09']\n",
    "ST2=data['ActivPark']['L23_Pr20_c0A']\n",
    "ST3=data['ActivPark']['L23_Pr20_c0B']\n",
    "dict(EEG)"
   ]
  },
  {
   "cell_type": "code",
   "execution_count": null,
   "id": "3ac270c6",
   "metadata": {},
   "outputs": [],
   "source": [
    "# Find the number of sampling points in EEG trace (EEG[\"values\"])\n"
   ]
  },
  {
   "cell_type": "code",
   "execution_count": null,
   "id": "dd4177c5",
   "metadata": {},
   "outputs": [],
   "source": [
    "# Find the duration of the recording as number of points time sampling interval (EEG[\"interval\"])\n"
   ]
  },
  {
   "cell_type": "code",
   "execution_count": null,
   "id": "477f0a14",
   "metadata": {},
   "outputs": [],
   "source": [
    "# Look up the 1000 first points in EEG trace\n"
   ]
  },
  {
   "cell_type": "code",
   "execution_count": null,
   "id": "a7ac1f5e",
   "metadata": {},
   "outputs": [],
   "source": [
    "# Compute the spectral power density histogram (spectrum) of the EEG trace using scipy.signal.welch\n"
   ]
  },
  {
   "cell_type": "code",
   "execution_count": null,
   "id": "66cee98f",
   "metadata": {},
   "outputs": [],
   "source": [
    "# Look up spike times for the two spike trains\n"
   ]
  },
  {
   "cell_type": "code",
   "execution_count": null,
   "id": "612d83d9",
   "metadata": {},
   "outputs": [],
   "source": [
    "# Make an instantaneous firing rate in bins of 1 ms using the function np.histogram\n"
   ]
  },
  {
   "cell_type": "code",
   "execution_count": null,
   "id": "7f6977f4",
   "metadata": {},
   "outputs": [],
   "source": [
    "# Plot the crosscorrelogram of instantaneous firing rate (IFR) of spike train 1 and IFR of spike train 2 for delays from -250ms to +250ms\n"
   ]
  },
  {
   "cell_type": "code",
   "execution_count": null,
   "id": "e028d57a",
   "metadata": {},
   "outputs": [],
   "source": [
    "# Smooth the crosscorrelogram of instantaneous firing rate (IFR) of spike train 1 and IFR of spike train 2 \n",
    "# and plot for delays from -50ms to +50ms\n"
   ]
  },
  {
   "cell_type": "code",
   "execution_count": null,
   "id": "d76bcc40",
   "metadata": {},
   "outputs": [],
   "source": [
    "# Repeat the same procedure (cells 11 and 12) for spike trains 2 and 3\n"
   ]
  },
  {
   "cell_type": "code",
   "execution_count": null,
   "id": "cb4829fc",
   "metadata": {},
   "outputs": [],
   "source": []
  },
  {
   "cell_type": "code",
   "execution_count": null,
   "id": "85eb2e85",
   "metadata": {},
   "outputs": [],
   "source": [
    "# Repeat the procedure (cells 11 and 12) for all pairs of spike trains recorded in this file (ActivPark)\n",
    "# To this end, you may use the 'keys' of the dataset, corresponding to the various signals recorded simultaneously. \n",
    "# Note that the first 3 signals correspond to EEG or filtered EEG and will not be considered here. All other recorded signals are spike trains \n",
    "\n",
    "keys=list(data['ActivPark'].keys())\n",
    "print(keys, len(keys))"
   ]
  },
  {
   "cell_type": "code",
   "execution_count": null,
   "id": "31b089ec",
   "metadata": {},
   "outputs": [],
   "source": [
    "# Look at the coherence between instantaneous firing rate (IFR) of spike train 1 and IFR of spike train 2 with function scipy.signal.coherence\n",
    "\n",
    "\n",
    "# Plot a vertical line at maximal coherence and get the corresponding frequency using the function plt.axvline\n"
   ]
  },
  {
   "cell_type": "code",
   "execution_count": null,
   "id": "6028be1b",
   "metadata": {},
   "outputs": [],
   "source": [
    "# We now want to compute the coherence between the EEG and the firing rates of single spike trains. \n",
    "# However, the coherence needs to be computed on signals that have the same sampling interval/rate\n",
    "\n",
    "# First step: Recompute the IFR for a time bin similar to the EEG sampling interval\n",
    "# Second step: Look at the coherence between instantaneous firing rate (IFR) of spike train 1 and IFR of spike train 2 with new time bin\n",
    "# This coherence can be compared to the one computed in cell 13.\n",
    "\n",
    "\n",
    "# Plot a vertical line at maximal coherence and get the corresponding frequency\n"
   ]
  },
  {
   "cell_type": "code",
   "execution_count": null,
   "id": "930add05",
   "metadata": {},
   "outputs": [],
   "source": [
    "# Now we can compute the coherence between instantaneous firing rate (IFR) of a spike train and the EEG\n",
    "\n",
    "# Plot a vertical line at maximal coherence and get the corresponding frequency"
   ]
  },
  {
   "cell_type": "code",
   "execution_count": null,
   "id": "f99a5733",
   "metadata": {},
   "outputs": [],
   "source": [
    "# Let's now look up a file with SWA activity in the cortex, and plot the first 5 seconds of this EEG\n",
    "EEG=data['SWAPark']['L23_EEGipsi']\n",
    "EEG_data=EEG['values'][0]\n",
    "EEG_interval=EEG['interval'][0][0]\n",
    "print(1/EEG_interval)\n",
    "\n",
    "plt.plot(EEG_data[:int(5/EEG_interval)]);"
   ]
  },
  {
   "cell_type": "code",
   "execution_count": 163,
   "id": "ee6345e9",
   "metadata": {},
   "outputs": [],
   "source": [
    "# Build a band pass filter with [0.5 1.5] Hz band for EEG using scipy.signal.butter\n"
   ]
  },
  {
   "cell_type": "code",
   "execution_count": null,
   "id": "22c9a094",
   "metadata": {},
   "outputs": [],
   "source": [
    "# Filter EEG with scipy.signal.filtfilt using the filter built in cell 18, and plot the first 5s of filtered EEG\n"
   ]
  },
  {
   "cell_type": "code",
   "execution_count": null,
   "id": "8a5d3dda",
   "metadata": {},
   "outputs": [],
   "source": [
    "# Load one spike train and the EEG values and sampling interval from the SWAPark file\n",
    "ST1=data['SWAPark']['L23_Pr20_c09']\n",
    "ST1_times=ST1['times'][0]\n",
    "print(len(ST1_times))\n",
    "\n",
    "EEG=data['SWAPark']['L23_EEGipsi']\n",
    "EEG_data=EEG['values'][0]\n",
    "EEG_interval=EEG['interval'][0][0]\n",
    "\n",
    "\n",
    "# Compute the spike-triggered average of the EEG trace with the first spike train\n",
    "windowsec=2; windowint=windowsec/EEG_interval; \n",
    "t=np.arange(-windowsec/2,windowsec/2-EEG_interval,EEG_interval)\n",
    "STA=np.zeros(int(windowint))\n",
    "i1=np.argmin(np.abs(ST1_times-windowsec))\n",
    "i2=np.argmin(np.abs(ST1_times-(len(EEG_data)*EEG_interval-windowsec)))\n",
    "print(ST1_times[i1])\n",
    "print(ST1_times[i2])\n",
    "for i in range(i1,i2):\n",
    "    STA += EEG_data[int(ST1_times[i+1]/EEG_interval)-int(windowint/2)-1:int(ST1_times[i+1]/EEG_interval)+int(windowint/2)]\n",
    "\n",
    "STA=STA/(len(ST1_times)-2)\n",
    "STA=STA-np.mean(STA)\n",
    "plt.plot(t,STA);\n",
    "\n",
    "# Value of the spike-triggered average at 0 time lag\n",
    "print(STA[int(windowint/2)])\n"
   ]
  },
  {
   "cell_type": "code",
   "execution_count": null,
   "id": "e4a4b0a6",
   "metadata": {},
   "outputs": [],
   "source": [
    "# Compute and plot the spike-triggered averages of the EEG with respect to all spike trains recorded in this SWAPark file\n",
    "# You may use the keys of the data['SWAPark'] data set\n",
    "# Save the value of the spike-triggered average at 0 time lag for all considered spike trains\n",
    "\n"
   ]
  },
  {
   "cell_type": "code",
   "execution_count": null,
   "id": "c8b878d5",
   "metadata": {},
   "outputs": [],
   "source": [
    "# For each spike train in the data set, compute the mean firing rate \n",
    "\n",
    "\n",
    "\n",
    "# Plot the mean firing rate of the spike trains vs the value of the spike-triggered average at 0 time lag\n"
   ]
  }
 ],
 "metadata": {
  "kernelspec": {
   "display_name": "Python 3",
   "language": "python",
   "name": "python3"
  },
  "language_info": {
   "codemirror_mode": {
    "name": "ipython",
    "version": 3
   },
   "file_extension": ".py",
   "mimetype": "text/x-python",
   "name": "python",
   "nbconvert_exporter": "python",
   "pygments_lexer": "ipython3",
   "version": "3.11.9"
  }
 },
 "nbformat": 4,
 "nbformat_minor": 5
}
