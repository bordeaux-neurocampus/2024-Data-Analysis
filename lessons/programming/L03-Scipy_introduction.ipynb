{
 "cells": [
  {
   "cell_type": "markdown",
   "metadata": {},
   "source": [
    "# SciPy\n",
    "The SciPy package contains various toolboxes dedicated to common issues in scientific computing.\n",
    "\n",
    "Its different __submodules__ correspond to different applications, such as interpolation, integration, optimization, image processing, statistics, special functions, etc.\n",
    "\n",
    "It is the core package for scientific routines in Python; it is meant to operate efficiently on numpy arrays, so that numpy and scipy work hand in hand. Scipy’s routines are optimized and tested, and should therefore be used when possible."
   ]
  },
  {
   "cell_type": "code",
   "execution_count": null,
   "metadata": {},
   "outputs": [],
   "source": [
    "import numpy as np\n",
    "\n",
    "# io: the submodule for input/output (saving and loading files):\n",
    "from scipy import io as spio\n",
    "\n",
    "### TO DO:\n",
    "### CREATE A MULTIDIMENSIONAL ARRAY OF YOUR CHOICE USING NUMPY\n",
    "array = ...\n",
    "\n",
    "# saving as a matlab file\n",
    "spio.savemat('example.mat', {'ar': array})\n",
    "\n",
    "# loading from a matlab file\n",
    "data = spio.loadmat('example.mat', struct_as_record=True) #set to True to load as a numpy record array (usually the best option)\n",
    "data['ar']"
   ]
  },
  {
   "cell_type": "code",
   "execution_count": null,
   "metadata": {},
   "outputs": [],
   "source": [
    "#linalg: the submodule for linear algebra\n",
    "from scipy import linalg\n",
    "\n",
    "### TO DO:\n",
    "### CREATE A 2x2 NUMPY ARRAY WITH VALUES 1, 2, 3 and 4\n",
    "matrix = np.array([[1,2],[3,4]])\n",
    "\n",
    "matrix_determinant = linalg.det(matrix)\n",
    "matrix_inverse = linalg.inv(matrix)\n",
    "\n",
    "print(matrix_determinant)\n",
    "print(matrix_inverse)"
   ]
  },
  {
   "cell_type": "code",
   "execution_count": null,
   "metadata": {},
   "outputs": [],
   "source": [
    "new_matrix = np.array([[3,2],[6,4]]) # this matrix has a null determinant: can you calculate it by hand?\n",
    "\n",
    "matrix_determinant = linalg.det(new_matrix)\n",
    "print(new_matrix)\n",
    "print(int(matrix_determinant))\n",
    "\n",
    "# since the determinant is 0, what will happen if we run this next line? uncomment it to see for yourself\n",
    "# matrix_inverse = linalg.inv(new_matrix)"
   ]
  },
  {
   "cell_type": "code",
   "execution_count": null,
   "metadata": {},
   "outputs": [],
   "source": [
    "#stats: the submodule for statistics\n",
    "from scipy import stats\n",
    "\n",
    "a = np.random.normal(loc=0, scale=1, size=100)      #loc=mean, scale=standard deviation\n",
    "b = np.random.normal(1, 1, 10)\n",
    "\n",
    "stats.ttest_ind(a, b)  #how can we interpret these results?"
   ]
  },
  {
   "cell_type": "markdown",
   "metadata": {},
   "source": [
    "### Intro to Signal Processing, Sampling and Curve Fitting\n",
    "In signal processing, sampling is the reduction of a continuous-time signal to a discrete-time signal. Sampling can be done for functions varying in space, time, or any other dimension, and similar results are obtained in two or more dimensions.\n",
    "\n",
    "For functions that vary with time, let s(t) be a continuous function (or \"signal\") to be sampled, and let sampling be performed by measuring the value of the continuous function every T seconds, which is called the sampling interval or the sampling period. Then the sampled function is given by the sequence:\n",
    "s(nT),   for integer values of n.\n",
    "The sampling frequency or sampling rate, fs, is the average number of samples obtained in one second, thus fs = 1/T. Its units are samples per second or hertz e.g. 48 kHz is 48,000 samples per second.\n",
    "\n",
    "Reconstructing a continuous function from samples is done by interpolation algorithms.\n",
    "\n",
    "Figure: Signal sampling representation is done in the figure below. The continuous signal S(t) is represented with a green colored line while the discrete samples are indicated by the blue vertical lines.  <img align = center src=\"Desktop/Signal_Sampling.png\"  />\n",
    "\n"
   ]
  },
  {
   "cell_type": "code",
   "execution_count": null,
   "metadata": {},
   "outputs": [],
   "source": [
    "# signal: the submodule for signal processing\n",
    "from scipy import signal as sig\n",
    "\n",
    "### TO DO:\n",
    "### CREATE AN ARRAY WITH 100 VALUES FROM 0 TO 5\n",
    "time = ...\n",
    "\n",
    "data = np.sin(time)\n",
    "\n",
    "data_resampled_25 = sig.resample(data, 25)\n",
    "data_resampled_10 = sig.resample(data, 10)\n",
    "\n",
    "\n",
    "# Let's visualize this\n",
    "import seaborn as sns\n",
    "\n",
    "plot = sns.lineplot(x=time, y=data, label=\"Original signal\")\n",
    "plot = sns.scatterplot(x=time[::4], y=data_resampled_25, label=\"Resampled signal (25)\", color=\"darkorange\")\n",
    "plot = sns.scatterplot(x=time[::10], y=data_resampled_10, label=\"Resampled signal (10)\", color=\"green\", marker=\"*\", s=150)"
   ]
  },
  {
   "cell_type": "markdown",
   "metadata": {},
   "source": [
    "### Linear Interpolation\n",
    "\n",
    "Linear interpolation is a method of curve fitting using linear polynomials to construct new data points within the range of a discrete set of known data points.\n",
    "If the two known points are given by the coordinates ($x_0$, $y_0$) and ($x_1, y_1$) the linear interpolant is the straight line between these points. For a value x in the interval ($x_0, x_1$), the value y along the straight line is given from the equation of slopes.\n",
    "\\begin{align}\n",
    "\\frac{y- y_0}{x-x_0} = \\frac{y_1-y_0}{x_1-x_0}\n",
    "\\end{align}\n",
    "Solving the equation for y, gives the formula for linear interpolation in the interval ($x_0, x_1$).\n",
    "\\begin{align}\n",
    "y = y_0\\frac{x_1-x}{x_1-x_0}+ y_1 \\frac{x-x0}{x_1-x_0}\n",
    "\\end{align}\n",
    "\n",
    "Linear interpolation is often used to approximate a value of some function f using two known values of that function at other points.\n",
    "\n",
    "**_In the context of data analysis, it is useful for fitting a function from experimental data and thus evaluating points where no measure exists._**"
   ]
  },
  {
   "cell_type": "code",
   "execution_count": null,
   "metadata": {},
   "outputs": [],
   "source": [
    "#interpolate: the submodule for interpolation (easy)\n",
    "from scipy.interpolate import interp1d\n",
    "import seaborn as sns\n",
    "\n",
    "\n",
    "### TO DO:\n",
    "### CREATE A NUMPY ARRAY WITH 10 VALUES RANGING FROM 0 TO 1\n",
    "time_points = ...\n",
    "\n",
    "noise = np.random.uniform(-0.1, 0.1, 10)\n",
    "print(noise)\n",
    "\n",
    "datapoints = np.sin(2 * np.pi * time_points) + noise\n",
    "print(datapoints.shape)\n",
    "\n",
    "\n",
    "plot = sns.scatterplot(x=time_points, y=datapoints, label=\"Data points\")\n",
    "# points are close to the sin function, but slightly off because of the noise"
   ]
  },
  {
   "cell_type": "code",
   "execution_count": null,
   "metadata": {},
   "outputs": [],
   "source": [
    "interpolation_time = np.linspace(0, 1, 50)\n",
    "\n",
    "linear_interp = interp1d(time_points, datapoints)\n",
    "linear_results = linear_interp(interpolation_time)\n",
    "\n",
    "cubic_interp = interp1d(time_points, datapoints, kind='cubic')\n",
    "cubic_results = cubic_interp(interpolation_time)\n",
    "\n",
    "\n",
    "\n",
    "plot = sns.scatterplot(x=time_points, y=datapoints, label=\"Data points\", color=\"green\")\n",
    "plot = sns.lineplot(x=interpolation_time, y=cubic_results, label = \"Cubic interpolation\")\n",
    "plot = sns.lineplot(x=interpolation_time, y=linear_results, label = \"Linear interpolation\", color=\"darkorange\")"
   ]
  },
  {
   "cell_type": "markdown",
   "metadata": {},
   "source": [
    "### Curve fitting\n",
    "Curve fitting is a type of optimization that finds an optimal set of parameters for a defined function that best fits a given set of observations.\n",
    "\n",
    "Unlike supervised learning, curve fitting requires that you define the function that maps examples of inputs to outputs.\n",
    "\n",
    "The mapping function, also called the basis function can have any form you like, including a straight line (linear regression), a curved line (polynomial regression), and much more. This provides the flexibility and control to define the form of the curve, where an optimization process is used to find the specific optimal parameters of the function.\n",
    "\n",
    "The scipy.optimize module provides algorithms for function minimization (scalar or multi-dimensional), curve fitting and root finding."
   ]
  },
  {
   "cell_type": "code",
   "execution_count": null,
   "metadata": {},
   "outputs": [],
   "source": [
    "from scipy import optimize\n",
    "\n",
    "x_data = np.linspace(0,10,15)\n",
    "y_data = np.linspace(0,10,15) + np.random.normal(size = 15)\n",
    "\n",
    "plot = sns.scatterplot(x=x_data, y=y_data)"
   ]
  },
  {
   "cell_type": "code",
   "execution_count": null,
   "metadata": {},
   "outputs": [],
   "source": [
    "def f(x,a,b):\n",
    "    return a*x + b\n",
    "\n",
    "# given our function \"f\" whose first argument is an independent variable (x),\n",
    "# determine the other arguments (a and b) be so that f(x_data) is as close to y_data as possible:\n",
    "params, params_covariance = optimize.curve_fit(f, x_data, y_data)\n",
    "optimal_a, optimal_b = params\n",
    "\n",
    "line = f(x_data, optimal_a, optimal_b)\n",
    "\n",
    "plot = sns.scatterplot(x=x_data, y=y_data)\n",
    "plot = sns.lineplot(x=x_data, y=line, color=\"r\")"
   ]
  },
  {
   "cell_type": "code",
   "execution_count": null,
   "metadata": {},
   "outputs": [],
   "source": [
    "from scipy import optimize\n",
    "\n",
    "x_data = np.linspace(-5, 5, 50)\n",
    "y_data = 2.9 * np.sin(1.5 * x_data) + np.random.normal(size = 50)\n",
    "\n",
    "plot = sns.scatterplot(x=x_data, y=y_data)"
   ]
  },
  {
   "cell_type": "code",
   "execution_count": null,
   "metadata": {},
   "outputs": [],
   "source": [
    "#our points look like they could be approximated by a sin function:\n",
    "def sin_func(x,a,b):\n",
    "    return a*np.sin(b*x)\n",
    "\n",
    "### TO DO:\n",
    "### FILL IN THE BLANKS!\n",
    "params, params_covariance = ...\n",
    "...\n",
    "plot = sns.lineplot(...)\n",
    "\n",
    "\n",
    "\n",
    "plot = sns.scatterplot(x=x_data, y=y_data)\n",
    "\n",
    "\n",
    "### PRINT THE OPTIMIZED PARAMETERS:\n",
    "# how well did we approximate the values used to create y_data in the first place?\n",
    "print(optimal_a, optimal_b)"
   ]
  }
 ],
 "metadata": {
  "kernelspec": {
   "display_name": "Python 3 (ipykernel)",
   "language": "python",
   "name": "python3"
  },
  "language_info": {
   "codemirror_mode": {
    "name": "ipython",
    "version": 3
   },
   "file_extension": ".py",
   "mimetype": "text/x-python",
   "name": "python",
   "nbconvert_exporter": "python",
   "pygments_lexer": "ipython3",
   "version": "3.9.13"
  },
  "vscode": {
   "interpreter": {
    "hash": "40d3a090f54c6569ab1632332b64b2c03c39dcf918b08424e98f38b5ae0af88f"
   }
  }
 },
 "nbformat": 4,
 "nbformat_minor": 2
}
