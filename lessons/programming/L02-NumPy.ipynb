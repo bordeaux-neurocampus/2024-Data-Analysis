{
 "cells": [
  {
   "cell_type": "markdown",
   "metadata": {},
   "source": [
    "# Programming for Data Analysis - NumPy"
   ]
  },
  {
   "cell_type": "markdown",
   "metadata": {},
   "source": [
    "## **Introduction to numerical computing**\n",
    "\n",
    "NumPy (Python library): creating and manipulating numerical data.\n",
    "NumPy provides a high-performance multidimensional array object, and tools for working with these arrays. \\\n",
    "References and detailed documentation can be found: https://numpy.org/doc/."
   ]
  },
  {
   "cell_type": "code",
   "execution_count": 18,
   "metadata": {},
   "outputs": [],
   "source": [
    "#Importing the library (convention)\n",
    "import numpy as np"
   ]
  },
  {
   "cell_type": "markdown",
   "metadata": {},
   "source": [
    "*_Memory efficient container that provides fast numerical operations._*"
   ]
  },
  {
   "cell_type": "code",
   "execution_count": null,
   "metadata": {},
   "outputs": [],
   "source": [
    "L = range(1000)     #all integers from 0 to 999\n",
    "\n",
    "#time it takes to raise 0-999 to the power of 2 with a regular list:\n",
    "%timeit [i**2 for i in L]\n",
    "\n",
    "#time it takes using numpy:\n",
    "a = np.arange(1000)\n",
    "%timeit a**2"
   ]
  },
  {
   "cell_type": "markdown",
   "metadata": {},
   "source": [
    "In a NumPy array, the number of dimensions is the rank of the array; the shape of an array is a tuple of integers giving the size of the array along each dimension. \\\n",
    "<a id=\"1darrays\" ></a>\n",
    "**_1D arrays_**"
   ]
  },
  {
   "cell_type": "code",
   "execution_count": null,
   "metadata": {},
   "outputs": [],
   "source": [
    "a = np.array([12,34,56,78,90]) #rank 1 array\n",
    "print(\"The array you first created is:\", a)\n",
    "print(\"The type of the array is \", type(a))\n",
    "print(\"The dimensions of the array are:\", a.ndim)\n",
    "print(\"The shape of the array is:\", a.shape)\n",
    "print(\"The length of the array is:\", len(a))\n",
    "print(\"The first, second and third elements of the array are:\", a[0], a[1], a[2])"
   ]
  },
  {
   "cell_type": "code",
   "execution_count": null,
   "metadata": {},
   "outputs": [],
   "source": [
    "#Changing elements in the array\n",
    "a[0] = 100\n",
    "print(\"The array after modification is:\", a)"
   ]
  },
  {
   "cell_type": "markdown",
   "metadata": {},
   "source": [
    " <a id=\"multi\" ></a>\n",
    "**_Multidimensional Arrays_**"
   ]
  },
  {
   "cell_type": "code",
   "execution_count": null,
   "metadata": {},
   "outputs": [],
   "source": [
    "# 2D arrays\n",
    "b = np.array([[12,34,56],[98,76,54]])\n",
    "print(\"The array you created is:\", b)\n",
    "print(\"The dimensions of the array are:\", b.ndim)\n",
    "print(\"The shape of the array is:\", b.shape)\n",
    "print(\"The first, second and third columns of the array:\", b[:,0], b[:,1], b[:,2])\n",
    "print(\"The first and second rows of the array:\", b[0,:], b[1,:]) "
   ]
  },
  {
   "cell_type": "code",
   "execution_count": null,
   "metadata": {},
   "outputs": [],
   "source": [
    "# 3D arrays\n",
    "c = np.array([[[11], [22]], [[33], [44]]])\n",
    "print(\"The array you created is:\" , c)\n",
    "print(\"The dimensions of the array are:\", c.ndim)\n",
    "print(\"The shape of the array is:\", c.shape)"
   ]
  },
  {
   "cell_type": "markdown",
   "metadata": {},
   "source": [
    "#### _Exercise_\n",
    "* Create a simple two dimensional array. First, redo the examples from above. And then create your own: how about odd numbers counting backwards on the first row, and even numbers on the second? \n",
    "\n",
    "* Use the functions len(), numpy.shape() on these arrays. How do they relate to each other? And to the ndim attribute of the arrays?"
   ]
  },
  {
   "cell_type": "markdown",
   "metadata": {},
   "source": [
    "**_Main functions for creating arrays_** \n",
    "* np.arange(), np.linspace()\n",
    "* np.ones(), np.zeros(), np.full(), np.eye(), np.diag()\n",
    "* np.random.rand(), np.random.randn()"
   ]
  },
  {
   "cell_type": "code",
   "execution_count": null,
   "metadata": {},
   "outputs": [],
   "source": [
    "#create arrays of ordered and equally spaced values: np.arange() and np.linspace()\n",
    "a = np.arange(1, 9, 2) # start, end (exclusive), step\n",
    "print(a)\n",
    "\n",
    "\n",
    "b = np.linspace(0, 1, 6)   # start, end, number of values\n",
    "print(b)\n",
    "c = np.linspace(0, 1, 5, endpoint=False) #values are spaced like b but the last one is excluded\n",
    "print(c)"
   ]
  },
  {
   "cell_type": "code",
   "execution_count": 6,
   "metadata": {},
   "outputs": [
    {
     "name": "stdout",
     "output_type": "stream",
     "text": [
      "[[0. 0. 0.]\n",
      " [0. 0. 0.]\n",
      " [0. 0. 0.]] Shape of array: (3, 3)\n",
      "[[1. 1.]\n",
      " [1. 1.]] Shape of array: (2, 2)\n",
      "[[7 7]\n",
      " [7 7]] Shape of array: (2, 2)\n"
     ]
    }
   ],
   "source": [
    "a_ = np.zeros((3, 3)) #array of zeros with a defined shape (3,3)\n",
    "print(a_, \"Shape of array:\", a_.shape)\n",
    "\n",
    "b_ = np.ones((2, 2))  #array of ones with a defined shape (2,2)\n",
    "print(b_, \"Shape of array:\", b_.shape)\n",
    "\n",
    "c_ = np.full((2,2), 7) #array of (2,2) of 7s \n",
    "print(c_, \"Shape of array:\", c_.shape)"
   ]
  },
  {
   "cell_type": "code",
   "execution_count": 10,
   "metadata": {},
   "outputs": [
    {
     "name": "stdout",
     "output_type": "stream",
     "text": [
      "[[1. 0. 0.]\n",
      " [0. 1. 0.]\n",
      " [0. 0. 1.]] Shape of array: (3, 3)\n",
      "[[1 0 0 0]\n",
      " [0 2 0 0]\n",
      " [0 0 3 0]\n",
      " [0 0 0 4]] Shape of array: (4, 4)\n",
      "[[1. 0. 0. 0.]\n",
      " [0. 2. 0. 0.]\n",
      " [0. 0. 3. 0.]\n",
      " [0. 0. 0. 4.]]\n"
     ]
    }
   ],
   "source": [
    "d_ = np.eye(3) #identity matrix of size 3, diagonal is filled with 1, zeroes elsewhere\n",
    "print(d_,\"Shape of array:\", d_.shape)\n",
    "\n",
    "e_ = np.diag(np.array([1, 2, 3, 4])) #diagonal is equal to the elements of the array, zeroes elsewhere\n",
    "print(e_,\"Shape of array:\", e_.shape)\n",
    "\n",
    "# notice that because we give an array of integers, the zeroes are also integers now\n",
    "# we can specify the data type of an array using the dtype parameter:\n",
    "\n",
    "e_ = np.diag(np.array([1, 2, 3, 4], dtype=float))\n",
    "print(e_)"
   ]
  },
  {
   "cell_type": "code",
   "execution_count": null,
   "metadata": {},
   "outputs": [],
   "source": [
    "a__ = np.random.rand()       # random floats between [0, 1)\n",
    "print(a__)\n",
    "\n",
    "b__ = np.random.randn(5)      # normal distribution (mean=0, sd=1)\n",
    "print(b__)"
   ]
  },
  {
   "cell_type": "markdown",
   "metadata": {},
   "source": [
    "#### **Indexing and Slicing** \n",
    "_Indices begin at 0, like other Python sequences (and C/C++). In contrast, in  Matlab, indices begin at 1._"
   ]
  },
  {
   "cell_type": "code",
   "execution_count": null,
   "metadata": {},
   "outputs": [],
   "source": [
    "a = np.arange(10)\n",
    "print(\"Original array a:\", a)\n",
    "print(a[0], a[2], a[6])  #first, third and seventh element of the array\n",
    "print(\"Using the index ::-1, you can print the reverse of the original array:\",  a[::-1])"
   ]
  },
  {
   "cell_type": "markdown",
   "metadata": {},
   "source": [
    "**_Slicing_** \\\n",
    "\\\n",
    "Slicing an array requires specifying the start, end and step of the slicing. If not specified, they are set to the default values: by default, start is 0, end is the last and step is 1:"
   ]
  },
  {
   "cell_type": "code",
   "execution_count": null,
   "metadata": {},
   "outputs": [],
   "source": [
    "print(a)\n",
    "print(a[2:9:3]) #start, end, step\n",
    "print(\"Going through the elements with a step of 2:\", a[::2]) #start and end are not included, so by default they are the first and last element, last index: step = 2\n",
    "print(a[1:3]) #start and end are specified, step is taken as 1 by default\n",
    "\n",
    "print(\"The first 4 elements of the array:\", a[:4])\n",
    "print(a[4:]) #start is specified, end & step by default"
   ]
  },
  {
   "cell_type": "markdown",
   "metadata": {},
   "source": [
    "**_Indexing in Multidimensional Arrays_**"
   ]
  },
  {
   "cell_type": "code",
   "execution_count": 20,
   "metadata": {},
   "outputs": [
    {
     "name": "stdout",
     "output_type": "stream",
     "text": [
      "[[0 0 0]\n",
      " [0 1 0]\n",
      " [0 0 2]]\n",
      "The element in the third row, second column of the matrix is: 0\n",
      "The element in the third row, third column of the matrix is: 2\n",
      "The element in the first row, third column of the matrix is: 0\n"
     ]
    }
   ],
   "source": [
    "a_ = np.diag(np.arange(3))\n",
    "print(a_)\n",
    "#First index is row, second is column\n",
    "print(\"The element in the third row, second column of the matrix is:\", a_[2,1])     #also works: a_[2][1]\n",
    "print(\"The element in the third row, third column of the matrix is:\", a_[2,2])\n",
    "print(\"The element in the first row, third column of the matrix is:\", a_[0,2])"
   ]
  },
  {
   "cell_type": "markdown",
   "metadata": {},
   "source": [
    "#### _Exercise_\n",
    "* Try to implement slicing in the 2D array."
   ]
  },
  {
   "cell_type": "markdown",
   "metadata": {},
   "source": [
    "_Note:_ By modifying the view (the sliced version of the array), the original array is modified as well. To prevent this, you have to save the view as a copy and perfom all modification in the copy."
   ]
  },
  {
   "cell_type": "markdown",
   "metadata": {},
   "source": [
    "### **Numerical Operations in NumPy**"
   ]
  },
  {
   "cell_type": "markdown",
   "metadata": {},
   "source": [
    "**Elementwise Operations** \n",
    "Addition, Subtraction, Multiplication, Division"
   ]
  },
  {
   "cell_type": "code",
   "execution_count": null,
   "metadata": {},
   "outputs": [],
   "source": [
    "#one array and a scalar\n",
    "a = np.array([0,1,2,3])\n",
    "print(\"Original array:\", a)\n",
    "print(\"Addition with a scalar: \", a+1)\n",
    "print(\"Subtraction by a scalar: \", a-2)\n",
    "print(\"Multiplication to a scalar: \",a*2)\n",
    "print(\"Division by a scalar: \", a, a/2)"
   ]
  },
  {
   "cell_type": "code",
   "execution_count": null,
   "metadata": {},
   "outputs": [],
   "source": [
    "#between 2 arrays\n",
    "b = np.array([10,11,12,13])\n",
    "print(\"Adding the two arrays:\",  a + b)\n",
    "print(\"Subtracting between the two arrays:\",  b - a)\n",
    "print(\"Multiplying the two arrays:\",  a * b)\n",
    "print(\"Division between the two arrays:\",  a/b)"
   ]
  },
  {
   "cell_type": "code",
   "execution_count": null,
   "metadata": {},
   "outputs": [],
   "source": [
    "#joining arrays into one:\n",
    "c = np.concatenate((a,b))\n",
    "print(c)\n",
    "\n",
    "#also works with multidimensional arrays (careful with shape)\n",
    "d = np.concatenate((np.zeros((2,3)), np.ones((5,3))), axis=0)\n",
    "print(d)"
   ]
  },
  {
   "cell_type": "markdown",
   "metadata": {},
   "source": [
    "**Matrix Multiplication and Transposition** "
   ]
  },
  {
   "cell_type": "code",
   "execution_count": null,
   "metadata": {},
   "outputs": [],
   "source": [
    "x = np.ones((3,2))\n",
    "y = np.full((2,4),3)\n",
    "product_matrix = np.dot(x,y)\n",
    "\n",
    "print(product_matrix)\n",
    "print(product_matrix.shape)"
   ]
  },
  {
   "cell_type": "code",
   "execution_count": 23,
   "metadata": {},
   "outputs": [
    {
     "name": "stdout",
     "output_type": "stream",
     "text": [
      "[0 1 2 3 4 5 6 7 8]\n",
      "(9,)\n",
      "[[0 1 2]\n",
      " [3 4 5]\n",
      " [6 7 8]]\n",
      "(3, 3)\n"
     ]
    }
   ],
   "source": [
    "a = np.arange(9)\n",
    "b = a.reshape(3,3)\n",
    "print(a)\n",
    "print(a.shape)\n",
    "print(b)\n",
    "print(b.shape)"
   ]
  },
  {
   "cell_type": "code",
   "execution_count": 25,
   "metadata": {},
   "outputs": [
    {
     "name": "stdout",
     "output_type": "stream",
     "text": [
      "The original matrix:\n",
      " [[0 1 2]\n",
      " [3 4 5]\n",
      " [6 7 8]]\n",
      "The transpose of the matrix:\n",
      " [[0 3 6]\n",
      " [1 4 7]\n",
      " [2 5 8]]\n"
     ]
    }
   ],
   "source": [
    "#Transpose\n",
    "print(\"The original matrix:\\n\", b)\n",
    "print(\"The transpose of the matrix:\\n\", b.T)"
   ]
  },
  {
   "cell_type": "markdown",
   "metadata": {},
   "source": [
    "**Other Operations**"
   ]
  },
  {
   "cell_type": "code",
   "execution_count": 29,
   "metadata": {},
   "outputs": [
    {
     "name": "stdout",
     "output_type": "stream",
     "text": [
      "a: [0 1 2] b: [1. 1. 1.]\n",
      "[False  True False]\n",
      "[ True False False]\n"
     ]
    }
   ],
   "source": [
    "# Comparing elements of two arrays (must be same shape)\n",
    "a = np.arange(3)\n",
    "b = np.ones(3)\n",
    "print(\"a:\",a,\"b:\",b)\n",
    "print(a == b)\n",
    "print(a < b)"
   ]
  },
  {
   "cell_type": "code",
   "execution_count": 30,
   "metadata": {},
   "outputs": [
    {
     "name": "stdout",
     "output_type": "stream",
     "text": [
      "[10  4  2 20 99]\n",
      "Sum of all the elements of the array is: 135\n",
      "The minimum value in the array is: 2\n",
      "The largest value in the array is: 99\n",
      "The index of the minimum value: 2\n",
      "The index of the maximum value: 4\n",
      "True\n",
      "True\n"
     ]
    }
   ],
   "source": [
    "x = np.array([10,4,2,20,99])\n",
    "print(x)\n",
    "print(\"Sum of all the elements of the array is:\", x.sum())\n",
    "print(\"The minimum value in the array is:\", x.min())\n",
    "print(\"The largest value in the array is:\", x.max())\n",
    "print(\"The index of the minimum value:\", x.argmin())\n",
    "print(\"The index of the maximum value:\", x.argmax())\n",
    "\n",
    "#x.argmin() is the index; the below 2 lines confirm whether the array[index] is equal to the actual minima/maxima of the array\n",
    "print(x[x.argmin()] == x.min())\n",
    "print(x[x.argmax()] == x.max())"
   ]
  },
  {
   "cell_type": "code",
   "execution_count": null,
   "metadata": {},
   "outputs": [],
   "source": [
    "# Basic statistics\n",
    "print(\"The mean of the array:\", x.mean())           #also works with np.mean(x)\n",
    "print(\"The median of the array:\", np.median(x))\n",
    "print(\"The standard deviation of the array:\", np.std(x))"
   ]
  },
  {
   "cell_type": "code",
   "execution_count": null,
   "metadata": {},
   "outputs": [],
   "source": [
    "# Sum values along a given axis only\n",
    "y = np.arange(6).reshape(2,3)\n",
    "print(y)\n",
    "print(\"Sum of each column:\", y.sum(axis = 0))\n",
    "print(\"Sum of each row:\", y.sum(axis = 1))\n",
    "\n",
    "# With more dimensions... don't lose track of your axes\n",
    "z = np.random.rand(2,3,4)\n",
    "print(z.shape)\n",
    "print(z.sum(axis = 1).shape)\n",
    "print(z.sum(axis = (0,2)).shape)"
   ]
  },
  {
   "cell_type": "markdown",
   "metadata": {},
   "source": [
    "### **Loading Data Files** "
   ]
  },
  {
   "cell_type": "code",
   "execution_count": null,
   "metadata": {},
   "outputs": [],
   "source": [
    "my_data = np.random.rand(10,2)\n",
    "print(my_data)\n",
    "\n",
    "# saving as numpy file: easy to import again with numpy\n",
    "np.save('my_data.npy', my_data)\n",
    "\n",
    "# saving as text file: can be opened with text editor, excel, etc.\n",
    "np.savetxt('my_data.txt', my_data)\n",
    "np.savetxt('my_data.csv', my_data, delimiter=';')\n",
    "\n",
    "#by default, files will save in the same directory as the notebook"
   ]
  },
  {
   "cell_type": "code",
   "execution_count": null,
   "metadata": {},
   "outputs": [],
   "source": [
    "imported_data = np.load('my_data.npy')\n",
    "print(imported_data)\n",
    "\n",
    "#same for text files using np.loadtxt\n",
    "imported_data2 = np.loadtxt('my_data.csv', delimiter=\";\")\n",
    "print(imported_data2)\n",
    "\n",
    "# by default, numpy looks for the file in the same directory as the notebook"
   ]
  },
  {
   "cell_type": "markdown",
   "metadata": {},
   "source": [
    "### _Exercice_\n",
    "\n",
    "Try to use numpy with exercises 6 and 8 of the exercises sheet"
   ]
  }
 ],
 "metadata": {
  "kernelspec": {
   "display_name": "Python 3 (ipykernel)",
   "language": "python",
   "name": "python3"
  },
  "language_info": {
   "codemirror_mode": {
    "name": "ipython",
    "version": 3
   },
   "file_extension": ".py",
   "mimetype": "text/x-python",
   "name": "python",
   "nbconvert_exporter": "python",
   "pygments_lexer": "ipython3",
   "version": "3.11.5"
  },
  "vscode": {
   "interpreter": {
    "hash": "40d3a090f54c6569ab1632332b64b2c03c39dcf918b08424e98f38b5ae0af88f"
   }
  }
 },
 "nbformat": 4,
 "nbformat_minor": 2
}
